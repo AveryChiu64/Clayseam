{
 "cells": [
  {
   "cell_type": "code",
   "execution_count": 1,
   "id": "6e3ab7fc-0b0b-45fe-a2d6-c73e35d4eb51",
   "metadata": {},
   "outputs": [],
   "source": [
    "from matplotlib import pyplot as plt\n",
    "import numpy as np\n",
    "from PIL import Image\n",
    "import glob\n",
    "import os, sys\n",
    "from PyPDF2 import PdfMerger"
   ]
  },
  {
   "cell_type": "code",
   "execution_count": 2,
   "id": "087b1fa8-1270-4bf7-bc42-b45dda819446",
   "metadata": {},
   "outputs": [],
   "source": [
    "os.makedirs('comparison', exist_ok=True)\n",
    "merger = PdfMerger()"
   ]
  },
  {
   "cell_type": "code",
   "execution_count": 3,
   "id": "b6c198ca-563f-4d86-9c95-e6d743930141",
   "metadata": {},
   "outputs": [],
   "source": [
    "gt_path = '../data/dataset1/train_label/'\n",
    "inference_path = 'inference/'\n",
    "original_path = '../data/dataset1/train_img/'\n",
    "count = 0\n",
    "# data/dataset1/train_img/11194_2019-02-19-15-13-47_Borer_21_TopbarRight.jpg\n",
    "\n",
    "for filename in glob.glob('../data/dataset1/train_label/*.png'):\n",
    "    count+=1\n",
    "    file=filename.replace(gt_path,'')\n",
    "    file=file.replace('.png','.jpg')\n",
    "    \n",
    "    gt=Image.open(filename)\n",
    "    image_orig=Image.open(original_path+file)\n",
    "    res=Image.open(inference_path+file)\n",
    "    \n",
    "    \n",
    "    plt.figure(1)\n",
    "    plt.subplot(221)\n",
    "    plt.imshow(image_orig)\n",
    "    plt.subplot(223)\n",
    "    plt.imshow(gt)\n",
    "    plt.title(\"Ground truth\")\n",
    "    plt.subplot(224)\n",
    "    plt.imshow(res)\n",
    "    plt.title(\"Predicted Segm.\")\n",
    "    \n",
    "    file=file.replace('.jpg','.pdf')\n",
    "    plt.savefig('comparison/'+file)\n",
    "    plt.close(1)\n",
    "    \n",
    "    merger.append('comparison/'+file)\n",
    "    \n",
    "    if count > 90:\n",
    "        break"
   ]
  },
  {
   "cell_type": "code",
   "execution_count": 4,
   "id": "8a065bac-6930-4b5d-89e6-0fa0afb5cd15",
   "metadata": {},
   "outputs": [],
   "source": [
    "merger.write(\"result.pdf\")\n",
    "merger.close()"
   ]
  },
  {
   "cell_type": "code",
   "execution_count": null,
   "id": "9568e7ee-0dfd-41cf-bc1c-7d83b5eee3cd",
   "metadata": {},
   "outputs": [],
   "source": []
  }
 ],
 "metadata": {
  "kernelspec": {
   "display_name": "Python 3",
   "language": "python",
   "name": "python3"
  },
  "language_info": {
   "codemirror_mode": {
    "name": "ipython",
    "version": 3
   },
   "file_extension": ".py",
   "mimetype": "text/x-python",
   "name": "python",
   "nbconvert_exporter": "python",
   "pygments_lexer": "ipython3",
   "version": "3.7.7"
  }
 },
 "nbformat": 4,
 "nbformat_minor": 5
}
